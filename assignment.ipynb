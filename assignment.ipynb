{
 "cells": [
  {
   "cell_type": "markdown",
   "metadata": {},
   "source": [
    "## Deliverables\n",
    "\n",
    "- A Jupyter notebook containing all the code used.\n",
    "- A short report (2-3 pages) summarizing the findings and insights from the exercises, including figures and tables as necessary. (This can but does not have to be done in LaTeX! It could be done in Markdown format inside the Jupyter Notebook)\n",
    "- Submit work to the hand-in folder via the Moodle course - it is a group report but please hand in individually with all group member names and group name easy to find."
   ]
  },
  {
   "cell_type": "markdown",
   "metadata": {},
   "source": [
    "## Task 1: Data Exploration and Cleaning\n",
    "\n",
    "**Objective:** Understand the dataset's structure, clean the data, and handle missing\n",
    "values."
   ]
  },
  {
   "cell_type": "markdown",
   "metadata": {},
   "source": [
    "### 1.1 Find and Download a Dataset\n",
    "\n",
    "Use Kaggle to find a dataset of interest. It should have both numerical and categorical data and some missing values."
   ]
  },
  {
   "cell_type": "code",
   "execution_count": 201,
   "metadata": {},
   "outputs": [],
   "source": [
    "import seaborn as sns\n",
    "\n",
    "df = sns.load_dataset('taxis')"
   ]
  },
  {
   "cell_type": "markdown",
   "metadata": {},
   "source": [
    "### 1.2 Data Exploration\n",
    "\n",
    "- Load the dataset using pandas.\n",
    "- Use .describe(), .info(), and .head() to explore the dataset's structure, summary statistics, and first few rows. Use comments or markdown cells to explain the data"
   ]
  },
  {
   "cell_type": "code",
   "execution_count": 202,
   "metadata": {},
   "outputs": [
    {
     "data": {
      "text/html": [
       "<div>\n",
       "<style scoped>\n",
       "    .dataframe tbody tr th:only-of-type {\n",
       "        vertical-align: middle;\n",
       "    }\n",
       "\n",
       "    .dataframe tbody tr th {\n",
       "        vertical-align: top;\n",
       "    }\n",
       "\n",
       "    .dataframe thead th {\n",
       "        text-align: right;\n",
       "    }\n",
       "</style>\n",
       "<table border=\"1\" class=\"dataframe\">\n",
       "  <thead>\n",
       "    <tr style=\"text-align: right;\">\n",
       "      <th></th>\n",
       "      <th>pickup</th>\n",
       "      <th>dropoff</th>\n",
       "      <th>passengers</th>\n",
       "      <th>distance</th>\n",
       "      <th>fare</th>\n",
       "      <th>tip</th>\n",
       "      <th>tolls</th>\n",
       "      <th>total</th>\n",
       "    </tr>\n",
       "  </thead>\n",
       "  <tbody>\n",
       "    <tr>\n",
       "      <th>count</th>\n",
       "      <td>6433</td>\n",
       "      <td>6433</td>\n",
       "      <td>6433.000000</td>\n",
       "      <td>6433.000000</td>\n",
       "      <td>6433.000000</td>\n",
       "      <td>6433.00000</td>\n",
       "      <td>6433.000000</td>\n",
       "      <td>6433.000000</td>\n",
       "    </tr>\n",
       "    <tr>\n",
       "      <th>mean</th>\n",
       "      <td>2019-03-16 08:31:28.514223616</td>\n",
       "      <td>2019-03-16 08:45:49.491217408</td>\n",
       "      <td>1.539251</td>\n",
       "      <td>3.024617</td>\n",
       "      <td>13.091073</td>\n",
       "      <td>1.97922</td>\n",
       "      <td>0.325273</td>\n",
       "      <td>18.517794</td>\n",
       "    </tr>\n",
       "    <tr>\n",
       "      <th>min</th>\n",
       "      <td>2019-02-28 23:29:03</td>\n",
       "      <td>2019-02-28 23:32:35</td>\n",
       "      <td>0.000000</td>\n",
       "      <td>0.000000</td>\n",
       "      <td>1.000000</td>\n",
       "      <td>0.00000</td>\n",
       "      <td>0.000000</td>\n",
       "      <td>1.300000</td>\n",
       "    </tr>\n",
       "    <tr>\n",
       "      <th>25%</th>\n",
       "      <td>2019-03-08 15:50:34</td>\n",
       "      <td>2019-03-08 16:12:51</td>\n",
       "      <td>1.000000</td>\n",
       "      <td>0.980000</td>\n",
       "      <td>6.500000</td>\n",
       "      <td>0.00000</td>\n",
       "      <td>0.000000</td>\n",
       "      <td>10.800000</td>\n",
       "    </tr>\n",
       "    <tr>\n",
       "      <th>50%</th>\n",
       "      <td>2019-03-15 21:46:58</td>\n",
       "      <td>2019-03-15 22:06:44</td>\n",
       "      <td>1.000000</td>\n",
       "      <td>1.640000</td>\n",
       "      <td>9.500000</td>\n",
       "      <td>1.70000</td>\n",
       "      <td>0.000000</td>\n",
       "      <td>14.160000</td>\n",
       "    </tr>\n",
       "    <tr>\n",
       "      <th>75%</th>\n",
       "      <td>2019-03-23 17:41:38</td>\n",
       "      <td>2019-03-23 17:51:56</td>\n",
       "      <td>2.000000</td>\n",
       "      <td>3.210000</td>\n",
       "      <td>15.000000</td>\n",
       "      <td>2.80000</td>\n",
       "      <td>0.000000</td>\n",
       "      <td>20.300000</td>\n",
       "    </tr>\n",
       "    <tr>\n",
       "      <th>max</th>\n",
       "      <td>2019-03-31 23:43:45</td>\n",
       "      <td>2019-04-01 00:13:58</td>\n",
       "      <td>6.000000</td>\n",
       "      <td>36.700000</td>\n",
       "      <td>150.000000</td>\n",
       "      <td>33.20000</td>\n",
       "      <td>24.020000</td>\n",
       "      <td>174.820000</td>\n",
       "    </tr>\n",
       "    <tr>\n",
       "      <th>std</th>\n",
       "      <td>NaN</td>\n",
       "      <td>NaN</td>\n",
       "      <td>1.203768</td>\n",
       "      <td>3.827867</td>\n",
       "      <td>11.551804</td>\n",
       "      <td>2.44856</td>\n",
       "      <td>1.415267</td>\n",
       "      <td>13.815570</td>\n",
       "    </tr>\n",
       "  </tbody>\n",
       "</table>\n",
       "</div>"
      ],
      "text/plain": [
       "                              pickup                        dropoff  \\\n",
       "count                           6433                           6433   \n",
       "mean   2019-03-16 08:31:28.514223616  2019-03-16 08:45:49.491217408   \n",
       "min              2019-02-28 23:29:03            2019-02-28 23:32:35   \n",
       "25%              2019-03-08 15:50:34            2019-03-08 16:12:51   \n",
       "50%              2019-03-15 21:46:58            2019-03-15 22:06:44   \n",
       "75%              2019-03-23 17:41:38            2019-03-23 17:51:56   \n",
       "max              2019-03-31 23:43:45            2019-04-01 00:13:58   \n",
       "std                              NaN                            NaN   \n",
       "\n",
       "        passengers     distance         fare         tip        tolls  \\\n",
       "count  6433.000000  6433.000000  6433.000000  6433.00000  6433.000000   \n",
       "mean      1.539251     3.024617    13.091073     1.97922     0.325273   \n",
       "min       0.000000     0.000000     1.000000     0.00000     0.000000   \n",
       "25%       1.000000     0.980000     6.500000     0.00000     0.000000   \n",
       "50%       1.000000     1.640000     9.500000     1.70000     0.000000   \n",
       "75%       2.000000     3.210000    15.000000     2.80000     0.000000   \n",
       "max       6.000000    36.700000   150.000000    33.20000    24.020000   \n",
       "std       1.203768     3.827867    11.551804     2.44856     1.415267   \n",
       "\n",
       "             total  \n",
       "count  6433.000000  \n",
       "mean     18.517794  \n",
       "min       1.300000  \n",
       "25%      10.800000  \n",
       "50%      14.160000  \n",
       "75%      20.300000  \n",
       "max     174.820000  \n",
       "std      13.815570  "
      ]
     },
     "execution_count": 202,
     "metadata": {},
     "output_type": "execute_result"
    }
   ],
   "source": [
    "df.describe()"
   ]
  },
  {
   "cell_type": "code",
   "execution_count": 203,
   "metadata": {},
   "outputs": [
    {
     "name": "stdout",
     "output_type": "stream",
     "text": [
      "<class 'pandas.core.frame.DataFrame'>\n",
      "RangeIndex: 6433 entries, 0 to 6432\n",
      "Data columns (total 14 columns):\n",
      " #   Column           Non-Null Count  Dtype         \n",
      "---  ------           --------------  -----         \n",
      " 0   pickup           6433 non-null   datetime64[ns]\n",
      " 1   dropoff          6433 non-null   datetime64[ns]\n",
      " 2   passengers       6433 non-null   int64         \n",
      " 3   distance         6433 non-null   float64       \n",
      " 4   fare             6433 non-null   float64       \n",
      " 5   tip              6433 non-null   float64       \n",
      " 6   tolls            6433 non-null   float64       \n",
      " 7   total            6433 non-null   float64       \n",
      " 8   color            6433 non-null   object        \n",
      " 9   payment          6389 non-null   object        \n",
      " 10  pickup_zone      6407 non-null   object        \n",
      " 11  dropoff_zone     6388 non-null   object        \n",
      " 12  pickup_borough   6407 non-null   object        \n",
      " 13  dropoff_borough  6388 non-null   object        \n",
      "dtypes: datetime64[ns](2), float64(5), int64(1), object(6)\n",
      "memory usage: 703.7+ KB\n"
     ]
    }
   ],
   "source": [
    "df.info()"
   ]
  },
  {
   "cell_type": "code",
   "execution_count": 204,
   "metadata": {},
   "outputs": [
    {
     "data": {
      "text/html": [
       "<div>\n",
       "<style scoped>\n",
       "    .dataframe tbody tr th:only-of-type {\n",
       "        vertical-align: middle;\n",
       "    }\n",
       "\n",
       "    .dataframe tbody tr th {\n",
       "        vertical-align: top;\n",
       "    }\n",
       "\n",
       "    .dataframe thead th {\n",
       "        text-align: right;\n",
       "    }\n",
       "</style>\n",
       "<table border=\"1\" class=\"dataframe\">\n",
       "  <thead>\n",
       "    <tr style=\"text-align: right;\">\n",
       "      <th></th>\n",
       "      <th>pickup</th>\n",
       "      <th>dropoff</th>\n",
       "      <th>passengers</th>\n",
       "      <th>distance</th>\n",
       "      <th>fare</th>\n",
       "      <th>tip</th>\n",
       "      <th>tolls</th>\n",
       "      <th>total</th>\n",
       "      <th>color</th>\n",
       "      <th>payment</th>\n",
       "      <th>pickup_zone</th>\n",
       "      <th>dropoff_zone</th>\n",
       "      <th>pickup_borough</th>\n",
       "      <th>dropoff_borough</th>\n",
       "    </tr>\n",
       "  </thead>\n",
       "  <tbody>\n",
       "    <tr>\n",
       "      <th>0</th>\n",
       "      <td>2019-03-23 20:21:09</td>\n",
       "      <td>2019-03-23 20:27:24</td>\n",
       "      <td>1</td>\n",
       "      <td>1.60</td>\n",
       "      <td>7.0</td>\n",
       "      <td>2.15</td>\n",
       "      <td>0.0</td>\n",
       "      <td>12.95</td>\n",
       "      <td>yellow</td>\n",
       "      <td>credit card</td>\n",
       "      <td>Lenox Hill West</td>\n",
       "      <td>UN/Turtle Bay South</td>\n",
       "      <td>Manhattan</td>\n",
       "      <td>Manhattan</td>\n",
       "    </tr>\n",
       "    <tr>\n",
       "      <th>1</th>\n",
       "      <td>2019-03-04 16:11:55</td>\n",
       "      <td>2019-03-04 16:19:00</td>\n",
       "      <td>1</td>\n",
       "      <td>0.79</td>\n",
       "      <td>5.0</td>\n",
       "      <td>0.00</td>\n",
       "      <td>0.0</td>\n",
       "      <td>9.30</td>\n",
       "      <td>yellow</td>\n",
       "      <td>cash</td>\n",
       "      <td>Upper West Side South</td>\n",
       "      <td>Upper West Side South</td>\n",
       "      <td>Manhattan</td>\n",
       "      <td>Manhattan</td>\n",
       "    </tr>\n",
       "    <tr>\n",
       "      <th>2</th>\n",
       "      <td>2019-03-27 17:53:01</td>\n",
       "      <td>2019-03-27 18:00:25</td>\n",
       "      <td>1</td>\n",
       "      <td>1.37</td>\n",
       "      <td>7.5</td>\n",
       "      <td>2.36</td>\n",
       "      <td>0.0</td>\n",
       "      <td>14.16</td>\n",
       "      <td>yellow</td>\n",
       "      <td>credit card</td>\n",
       "      <td>Alphabet City</td>\n",
       "      <td>West Village</td>\n",
       "      <td>Manhattan</td>\n",
       "      <td>Manhattan</td>\n",
       "    </tr>\n",
       "    <tr>\n",
       "      <th>3</th>\n",
       "      <td>2019-03-10 01:23:59</td>\n",
       "      <td>2019-03-10 01:49:51</td>\n",
       "      <td>1</td>\n",
       "      <td>7.70</td>\n",
       "      <td>27.0</td>\n",
       "      <td>6.15</td>\n",
       "      <td>0.0</td>\n",
       "      <td>36.95</td>\n",
       "      <td>yellow</td>\n",
       "      <td>credit card</td>\n",
       "      <td>Hudson Sq</td>\n",
       "      <td>Yorkville West</td>\n",
       "      <td>Manhattan</td>\n",
       "      <td>Manhattan</td>\n",
       "    </tr>\n",
       "    <tr>\n",
       "      <th>4</th>\n",
       "      <td>2019-03-30 13:27:42</td>\n",
       "      <td>2019-03-30 13:37:14</td>\n",
       "      <td>3</td>\n",
       "      <td>2.16</td>\n",
       "      <td>9.0</td>\n",
       "      <td>1.10</td>\n",
       "      <td>0.0</td>\n",
       "      <td>13.40</td>\n",
       "      <td>yellow</td>\n",
       "      <td>credit card</td>\n",
       "      <td>Midtown East</td>\n",
       "      <td>Yorkville West</td>\n",
       "      <td>Manhattan</td>\n",
       "      <td>Manhattan</td>\n",
       "    </tr>\n",
       "  </tbody>\n",
       "</table>\n",
       "</div>"
      ],
      "text/plain": [
       "               pickup             dropoff  passengers  distance  fare   tip  \\\n",
       "0 2019-03-23 20:21:09 2019-03-23 20:27:24           1      1.60   7.0  2.15   \n",
       "1 2019-03-04 16:11:55 2019-03-04 16:19:00           1      0.79   5.0  0.00   \n",
       "2 2019-03-27 17:53:01 2019-03-27 18:00:25           1      1.37   7.5  2.36   \n",
       "3 2019-03-10 01:23:59 2019-03-10 01:49:51           1      7.70  27.0  6.15   \n",
       "4 2019-03-30 13:27:42 2019-03-30 13:37:14           3      2.16   9.0  1.10   \n",
       "\n",
       "   tolls  total   color      payment            pickup_zone  \\\n",
       "0    0.0  12.95  yellow  credit card        Lenox Hill West   \n",
       "1    0.0   9.30  yellow         cash  Upper West Side South   \n",
       "2    0.0  14.16  yellow  credit card          Alphabet City   \n",
       "3    0.0  36.95  yellow  credit card              Hudson Sq   \n",
       "4    0.0  13.40  yellow  credit card           Midtown East   \n",
       "\n",
       "            dropoff_zone pickup_borough dropoff_borough  \n",
       "0    UN/Turtle Bay South      Manhattan       Manhattan  \n",
       "1  Upper West Side South      Manhattan       Manhattan  \n",
       "2           West Village      Manhattan       Manhattan  \n",
       "3         Yorkville West      Manhattan       Manhattan  \n",
       "4         Yorkville West      Manhattan       Manhattan  "
      ]
     },
     "execution_count": 204,
     "metadata": {},
     "output_type": "execute_result"
    }
   ],
   "source": [
    "df.head()"
   ]
  },
  {
   "cell_type": "code",
   "execution_count": 205,
   "metadata": {},
   "outputs": [
    {
     "data": {
      "text/plain": [
       "(6433, 14)"
      ]
     },
     "execution_count": 205,
     "metadata": {},
     "output_type": "execute_result"
    }
   ],
   "source": [
    "df.shape"
   ]
  },
  {
   "cell_type": "markdown",
   "metadata": {},
   "source": [
    "### 1.3 Data Cleaning\n",
    "\n",
    "- Identify columns with missing values.\n",
    "- For numerical columns, interpolate missing values.\n",
    "- For categorical columns, replace missing values with the mode or another standard technique (such as the mean of the two adjacent data points)\n",
    "- Drop columns with more than 50% missing values.\n",
    "- Drop extreme outliers and explain why they were considered outliers"
   ]
  },
  {
   "cell_type": "code",
   "execution_count": 206,
   "metadata": {},
   "outputs": [
    {
     "data": {
      "text/plain": [
       "pickup              0\n",
       "dropoff             0\n",
       "passengers          0\n",
       "distance            0\n",
       "fare                0\n",
       "tip                 0\n",
       "tolls               0\n",
       "total               0\n",
       "color               0\n",
       "payment            44\n",
       "pickup_zone        26\n",
       "dropoff_zone       45\n",
       "pickup_borough     26\n",
       "dropoff_borough    45\n",
       "dtype: int64"
      ]
     },
     "execution_count": 206,
     "metadata": {},
     "output_type": "execute_result"
    }
   ],
   "source": [
    "df.isnull().sum()"
   ]
  },
  {
   "cell_type": "code",
   "execution_count": 207,
   "metadata": {},
   "outputs": [
    {
     "name": "stdout",
     "output_type": "stream",
     "text": [
      "<class 'pandas.core.frame.DataFrame'>\n",
      "RangeIndex: 6433 entries, 0 to 6432\n",
      "Data columns (total 14 columns):\n",
      " #   Column           Non-Null Count  Dtype         \n",
      "---  ------           --------------  -----         \n",
      " 0   pickup           6433 non-null   datetime64[ns]\n",
      " 1   dropoff          6433 non-null   datetime64[ns]\n",
      " 2   passengers       6433 non-null   int64         \n",
      " 3   distance         6433 non-null   float64       \n",
      " 4   fare             6433 non-null   float64       \n",
      " 5   tip              6433 non-null   float64       \n",
      " 6   tolls            6433 non-null   float64       \n",
      " 7   total            6433 non-null   float64       \n",
      " 8   color            6433 non-null   string        \n",
      " 9   payment          6389 non-null   string        \n",
      " 10  pickup_zone      6407 non-null   string        \n",
      " 11  dropoff_zone     6388 non-null   string        \n",
      " 12  pickup_borough   6407 non-null   string        \n",
      " 13  dropoff_borough  6388 non-null   string        \n",
      "dtypes: datetime64[ns](2), float64(5), int64(1), string(6)\n",
      "memory usage: 703.7 KB\n"
     ]
    }
   ],
   "source": [
    "for col in df.columns:\n",
    "    if df[col].dtype == 'object':\n",
    "        df[col] = df[col].astype(\"string\")\n",
    "\n",
    "df.info()"
   ]
  },
  {
   "cell_type": "code",
   "execution_count": 208,
   "metadata": {},
   "outputs": [
    {
     "data": {
      "text/html": [
       "<div>\n",
       "<style scoped>\n",
       "    .dataframe tbody tr th:only-of-type {\n",
       "        vertical-align: middle;\n",
       "    }\n",
       "\n",
       "    .dataframe tbody tr th {\n",
       "        vertical-align: top;\n",
       "    }\n",
       "\n",
       "    .dataframe thead th {\n",
       "        text-align: right;\n",
       "    }\n",
       "</style>\n",
       "<table border=\"1\" class=\"dataframe\">\n",
       "  <thead>\n",
       "    <tr style=\"text-align: right;\">\n",
       "      <th></th>\n",
       "      <th>pickup</th>\n",
       "      <th>dropoff</th>\n",
       "      <th>passengers</th>\n",
       "      <th>distance</th>\n",
       "      <th>fare</th>\n",
       "      <th>tip</th>\n",
       "      <th>tolls</th>\n",
       "      <th>total</th>\n",
       "      <th>color</th>\n",
       "      <th>payment</th>\n",
       "      <th>pickup_zone</th>\n",
       "      <th>dropoff_zone</th>\n",
       "      <th>pickup_borough</th>\n",
       "      <th>dropoff_borough</th>\n",
       "    </tr>\n",
       "  </thead>\n",
       "  <tbody>\n",
       "    <tr>\n",
       "      <th>7</th>\n",
       "      <td>2019-03-22 12:47:13</td>\n",
       "      <td>2019-03-22 12:58:17</td>\n",
       "      <td>0</td>\n",
       "      <td>1.4</td>\n",
       "      <td>8.5</td>\n",
       "      <td>0.00</td>\n",
       "      <td>0.0</td>\n",
       "      <td>11.80</td>\n",
       "      <td>yellow</td>\n",
       "      <td>&lt;NA&gt;</td>\n",
       "      <td>Murray Hill</td>\n",
       "      <td>Flatiron</td>\n",
       "      <td>Manhattan</td>\n",
       "      <td>Manhattan</td>\n",
       "    </tr>\n",
       "    <tr>\n",
       "      <th>42</th>\n",
       "      <td>2019-03-30 23:59:14</td>\n",
       "      <td>2019-03-30 23:59:17</td>\n",
       "      <td>1</td>\n",
       "      <td>0.0</td>\n",
       "      <td>80.0</td>\n",
       "      <td>20.08</td>\n",
       "      <td>0.0</td>\n",
       "      <td>100.38</td>\n",
       "      <td>yellow</td>\n",
       "      <td>credit card</td>\n",
       "      <td>&lt;NA&gt;</td>\n",
       "      <td>&lt;NA&gt;</td>\n",
       "      <td>&lt;NA&gt;</td>\n",
       "      <td>&lt;NA&gt;</td>\n",
       "    </tr>\n",
       "    <tr>\n",
       "      <th>445</th>\n",
       "      <td>2019-03-19 06:57:14</td>\n",
       "      <td>2019-03-19 07:00:08</td>\n",
       "      <td>1</td>\n",
       "      <td>1.3</td>\n",
       "      <td>5.5</td>\n",
       "      <td>0.00</td>\n",
       "      <td>0.0</td>\n",
       "      <td>6.30</td>\n",
       "      <td>yellow</td>\n",
       "      <td>&lt;NA&gt;</td>\n",
       "      <td>Boerum Hill</td>\n",
       "      <td>Columbia Street</td>\n",
       "      <td>Brooklyn</td>\n",
       "      <td>Brooklyn</td>\n",
       "    </tr>\n",
       "    <tr>\n",
       "      <th>491</th>\n",
       "      <td>2019-03-07 07:11:33</td>\n",
       "      <td>2019-03-07 07:11:39</td>\n",
       "      <td>1</td>\n",
       "      <td>1.6</td>\n",
       "      <td>2.5</td>\n",
       "      <td>0.00</td>\n",
       "      <td>0.0</td>\n",
       "      <td>5.80</td>\n",
       "      <td>yellow</td>\n",
       "      <td>&lt;NA&gt;</td>\n",
       "      <td>Murray Hill</td>\n",
       "      <td>Murray Hill</td>\n",
       "      <td>Manhattan</td>\n",
       "      <td>Manhattan</td>\n",
       "    </tr>\n",
       "    <tr>\n",
       "      <th>545</th>\n",
       "      <td>2019-03-27 11:03:43</td>\n",
       "      <td>2019-03-27 11:14:34</td>\n",
       "      <td>1</td>\n",
       "      <td>4.2</td>\n",
       "      <td>15.0</td>\n",
       "      <td>0.00</td>\n",
       "      <td>0.0</td>\n",
       "      <td>15.80</td>\n",
       "      <td>yellow</td>\n",
       "      <td>&lt;NA&gt;</td>\n",
       "      <td>LaGuardia Airport</td>\n",
       "      <td>Forest Hills</td>\n",
       "      <td>Queens</td>\n",
       "      <td>Queens</td>\n",
       "    </tr>\n",
       "    <tr>\n",
       "      <th>...</th>\n",
       "      <td>...</td>\n",
       "      <td>...</td>\n",
       "      <td>...</td>\n",
       "      <td>...</td>\n",
       "      <td>...</td>\n",
       "      <td>...</td>\n",
       "      <td>...</td>\n",
       "      <td>...</td>\n",
       "      <td>...</td>\n",
       "      <td>...</td>\n",
       "      <td>...</td>\n",
       "      <td>...</td>\n",
       "      <td>...</td>\n",
       "      <td>...</td>\n",
       "    </tr>\n",
       "    <tr>\n",
       "      <th>6118</th>\n",
       "      <td>2019-03-30 00:49:48</td>\n",
       "      <td>2019-03-30 00:49:56</td>\n",
       "      <td>1</td>\n",
       "      <td>0.0</td>\n",
       "      <td>25.0</td>\n",
       "      <td>0.00</td>\n",
       "      <td>0.0</td>\n",
       "      <td>25.50</td>\n",
       "      <td>green</td>\n",
       "      <td>credit card</td>\n",
       "      <td>Prospect Heights</td>\n",
       "      <td>&lt;NA&gt;</td>\n",
       "      <td>Brooklyn</td>\n",
       "      <td>&lt;NA&gt;</td>\n",
       "    </tr>\n",
       "    <tr>\n",
       "      <th>6169</th>\n",
       "      <td>2019-03-27 02:11:01</td>\n",
       "      <td>2019-03-27 02:12:03</td>\n",
       "      <td>1</td>\n",
       "      <td>4.1</td>\n",
       "      <td>3.0</td>\n",
       "      <td>0.00</td>\n",
       "      <td>0.0</td>\n",
       "      <td>4.30</td>\n",
       "      <td>green</td>\n",
       "      <td>&lt;NA&gt;</td>\n",
       "      <td>Jackson Heights</td>\n",
       "      <td>Jackson Heights</td>\n",
       "      <td>Queens</td>\n",
       "      <td>Queens</td>\n",
       "    </tr>\n",
       "    <tr>\n",
       "      <th>6311</th>\n",
       "      <td>2019-03-12 07:10:30</td>\n",
       "      <td>2019-03-12 07:14:18</td>\n",
       "      <td>1</td>\n",
       "      <td>0.7</td>\n",
       "      <td>4.5</td>\n",
       "      <td>0.00</td>\n",
       "      <td>0.0</td>\n",
       "      <td>5.30</td>\n",
       "      <td>green</td>\n",
       "      <td>&lt;NA&gt;</td>\n",
       "      <td>Long Island City/Hunters Point</td>\n",
       "      <td>Long Island City/Hunters Point</td>\n",
       "      <td>Queens</td>\n",
       "      <td>Queens</td>\n",
       "    </tr>\n",
       "    <tr>\n",
       "      <th>6314</th>\n",
       "      <td>2019-03-28 22:36:04</td>\n",
       "      <td>2019-03-28 22:36:07</td>\n",
       "      <td>1</td>\n",
       "      <td>0.0</td>\n",
       "      <td>25.0</td>\n",
       "      <td>0.00</td>\n",
       "      <td>0.0</td>\n",
       "      <td>25.00</td>\n",
       "      <td>green</td>\n",
       "      <td>cash</td>\n",
       "      <td>Jamaica</td>\n",
       "      <td>&lt;NA&gt;</td>\n",
       "      <td>Queens</td>\n",
       "      <td>&lt;NA&gt;</td>\n",
       "    </tr>\n",
       "    <tr>\n",
       "      <th>6356</th>\n",
       "      <td>2019-03-01 16:58:23</td>\n",
       "      <td>2019-03-01 16:58:23</td>\n",
       "      <td>1</td>\n",
       "      <td>0.0</td>\n",
       "      <td>3.0</td>\n",
       "      <td>0.00</td>\n",
       "      <td>0.0</td>\n",
       "      <td>4.80</td>\n",
       "      <td>green</td>\n",
       "      <td>cash</td>\n",
       "      <td>Stuyvesant Heights</td>\n",
       "      <td>&lt;NA&gt;</td>\n",
       "      <td>Brooklyn</td>\n",
       "      <td>&lt;NA&gt;</td>\n",
       "    </tr>\n",
       "  </tbody>\n",
       "</table>\n",
       "<p>92 rows × 14 columns</p>\n",
       "</div>"
      ],
      "text/plain": [
       "                  pickup             dropoff  passengers  distance  fare  \\\n",
       "7    2019-03-22 12:47:13 2019-03-22 12:58:17           0       1.4   8.5   \n",
       "42   2019-03-30 23:59:14 2019-03-30 23:59:17           1       0.0  80.0   \n",
       "445  2019-03-19 06:57:14 2019-03-19 07:00:08           1       1.3   5.5   \n",
       "491  2019-03-07 07:11:33 2019-03-07 07:11:39           1       1.6   2.5   \n",
       "545  2019-03-27 11:03:43 2019-03-27 11:14:34           1       4.2  15.0   \n",
       "...                  ...                 ...         ...       ...   ...   \n",
       "6118 2019-03-30 00:49:48 2019-03-30 00:49:56           1       0.0  25.0   \n",
       "6169 2019-03-27 02:11:01 2019-03-27 02:12:03           1       4.1   3.0   \n",
       "6311 2019-03-12 07:10:30 2019-03-12 07:14:18           1       0.7   4.5   \n",
       "6314 2019-03-28 22:36:04 2019-03-28 22:36:07           1       0.0  25.0   \n",
       "6356 2019-03-01 16:58:23 2019-03-01 16:58:23           1       0.0   3.0   \n",
       "\n",
       "        tip  tolls   total   color      payment  \\\n",
       "7      0.00    0.0   11.80  yellow         <NA>   \n",
       "42    20.08    0.0  100.38  yellow  credit card   \n",
       "445    0.00    0.0    6.30  yellow         <NA>   \n",
       "491    0.00    0.0    5.80  yellow         <NA>   \n",
       "545    0.00    0.0   15.80  yellow         <NA>   \n",
       "...     ...    ...     ...     ...          ...   \n",
       "6118   0.00    0.0   25.50   green  credit card   \n",
       "6169   0.00    0.0    4.30   green         <NA>   \n",
       "6311   0.00    0.0    5.30   green         <NA>   \n",
       "6314   0.00    0.0   25.00   green         cash   \n",
       "6356   0.00    0.0    4.80   green         cash   \n",
       "\n",
       "                         pickup_zone                    dropoff_zone  \\\n",
       "7                        Murray Hill                        Flatiron   \n",
       "42                              <NA>                            <NA>   \n",
       "445                      Boerum Hill                 Columbia Street   \n",
       "491                      Murray Hill                     Murray Hill   \n",
       "545                LaGuardia Airport                    Forest Hills   \n",
       "...                              ...                             ...   \n",
       "6118                Prospect Heights                            <NA>   \n",
       "6169                 Jackson Heights                 Jackson Heights   \n",
       "6311  Long Island City/Hunters Point  Long Island City/Hunters Point   \n",
       "6314                         Jamaica                            <NA>   \n",
       "6356              Stuyvesant Heights                            <NA>   \n",
       "\n",
       "     pickup_borough dropoff_borough  \n",
       "7         Manhattan       Manhattan  \n",
       "42             <NA>            <NA>  \n",
       "445        Brooklyn        Brooklyn  \n",
       "491       Manhattan       Manhattan  \n",
       "545          Queens          Queens  \n",
       "...             ...             ...  \n",
       "6118       Brooklyn            <NA>  \n",
       "6169         Queens          Queens  \n",
       "6311         Queens          Queens  \n",
       "6314         Queens            <NA>  \n",
       "6356       Brooklyn            <NA>  \n",
       "\n",
       "[92 rows x 14 columns]"
      ]
     },
     "execution_count": 208,
     "metadata": {},
     "output_type": "execute_result"
    }
   ],
   "source": [
    "df[df.isnull().any(axis=1)]"
   ]
  },
  {
   "cell_type": "markdown",
   "metadata": {},
   "source": [
    "All null values are typed in as `<NA>` in the dataset.\n",
    "Since it is only 92 rows we have decided to drop all rows with missing values."
   ]
  },
  {
   "cell_type": "code",
   "execution_count": 209,
   "metadata": {},
   "outputs": [],
   "source": [
    "df = df.dropna()"
   ]
  },
  {
   "cell_type": "code",
   "execution_count": 210,
   "metadata": {},
   "outputs": [
    {
     "data": {
      "text/plain": [
       "(6341, 14)"
      ]
     },
     "execution_count": 210,
     "metadata": {},
     "output_type": "execute_result"
    }
   ],
   "source": [
    "df.shape"
   ]
  },
  {
   "cell_type": "code",
   "execution_count": 211,
   "metadata": {},
   "outputs": [
    {
     "data": {
      "text/html": [
       "<div>\n",
       "<style scoped>\n",
       "    .dataframe tbody tr th:only-of-type {\n",
       "        vertical-align: middle;\n",
       "    }\n",
       "\n",
       "    .dataframe tbody tr th {\n",
       "        vertical-align: top;\n",
       "    }\n",
       "\n",
       "    .dataframe thead th {\n",
       "        text-align: right;\n",
       "    }\n",
       "</style>\n",
       "<table border=\"1\" class=\"dataframe\">\n",
       "  <thead>\n",
       "    <tr style=\"text-align: right;\">\n",
       "      <th></th>\n",
       "      <th>pickup</th>\n",
       "      <th>dropoff</th>\n",
       "      <th>passengers</th>\n",
       "      <th>distance</th>\n",
       "      <th>fare</th>\n",
       "      <th>tip</th>\n",
       "      <th>tolls</th>\n",
       "      <th>total</th>\n",
       "    </tr>\n",
       "  </thead>\n",
       "  <tbody>\n",
       "    <tr>\n",
       "      <th>count</th>\n",
       "      <td>6341</td>\n",
       "      <td>6341</td>\n",
       "      <td>6341.000000</td>\n",
       "      <td>6341.000000</td>\n",
       "      <td>6341.000000</td>\n",
       "      <td>6341.000000</td>\n",
       "      <td>6341.000000</td>\n",
       "      <td>6341.000000</td>\n",
       "    </tr>\n",
       "    <tr>\n",
       "      <th>mean</th>\n",
       "      <td>2019-03-16 08:30:26.574830080</td>\n",
       "      <td>2019-03-16 08:44:47.525784832</td>\n",
       "      <td>1.544078</td>\n",
       "      <td>2.997707</td>\n",
       "      <td>12.887931</td>\n",
       "      <td>1.972703</td>\n",
       "      <td>0.314793</td>\n",
       "      <td>18.310263</td>\n",
       "    </tr>\n",
       "    <tr>\n",
       "      <th>min</th>\n",
       "      <td>2019-02-28 23:29:03</td>\n",
       "      <td>2019-02-28 23:32:35</td>\n",
       "      <td>0.000000</td>\n",
       "      <td>0.000000</td>\n",
       "      <td>1.000000</td>\n",
       "      <td>0.000000</td>\n",
       "      <td>0.000000</td>\n",
       "      <td>1.300000</td>\n",
       "    </tr>\n",
       "    <tr>\n",
       "      <th>25%</th>\n",
       "      <td>2019-03-08 15:28:20</td>\n",
       "      <td>2019-03-08 15:54:00</td>\n",
       "      <td>1.000000</td>\n",
       "      <td>0.990000</td>\n",
       "      <td>6.500000</td>\n",
       "      <td>0.000000</td>\n",
       "      <td>0.000000</td>\n",
       "      <td>10.800000</td>\n",
       "    </tr>\n",
       "    <tr>\n",
       "      <th>50%</th>\n",
       "      <td>2019-03-15 21:57:47</td>\n",
       "      <td>2019-03-15 22:07:48</td>\n",
       "      <td>1.000000</td>\n",
       "      <td>1.650000</td>\n",
       "      <td>9.500000</td>\n",
       "      <td>1.750000</td>\n",
       "      <td>0.000000</td>\n",
       "      <td>14.160000</td>\n",
       "    </tr>\n",
       "    <tr>\n",
       "      <th>75%</th>\n",
       "      <td>2019-03-23 17:45:29</td>\n",
       "      <td>2019-03-23 17:57:56</td>\n",
       "      <td>2.000000</td>\n",
       "      <td>3.200000</td>\n",
       "      <td>15.000000</td>\n",
       "      <td>2.820000</td>\n",
       "      <td>0.000000</td>\n",
       "      <td>20.300000</td>\n",
       "    </tr>\n",
       "    <tr>\n",
       "      <th>max</th>\n",
       "      <td>2019-03-31 23:43:45</td>\n",
       "      <td>2019-04-01 00:13:58</td>\n",
       "      <td>6.000000</td>\n",
       "      <td>36.700000</td>\n",
       "      <td>150.000000</td>\n",
       "      <td>23.190000</td>\n",
       "      <td>24.020000</td>\n",
       "      <td>174.820000</td>\n",
       "    </tr>\n",
       "    <tr>\n",
       "      <th>std</th>\n",
       "      <td>NaN</td>\n",
       "      <td>NaN</td>\n",
       "      <td>1.207948</td>\n",
       "      <td>3.719775</td>\n",
       "      <td>10.722249</td>\n",
       "      <td>2.361897</td>\n",
       "      <td>1.369174</td>\n",
       "      <td>12.950365</td>\n",
       "    </tr>\n",
       "  </tbody>\n",
       "</table>\n",
       "</div>"
      ],
      "text/plain": [
       "                              pickup                        dropoff  \\\n",
       "count                           6341                           6341   \n",
       "mean   2019-03-16 08:30:26.574830080  2019-03-16 08:44:47.525784832   \n",
       "min              2019-02-28 23:29:03            2019-02-28 23:32:35   \n",
       "25%              2019-03-08 15:28:20            2019-03-08 15:54:00   \n",
       "50%              2019-03-15 21:57:47            2019-03-15 22:07:48   \n",
       "75%              2019-03-23 17:45:29            2019-03-23 17:57:56   \n",
       "max              2019-03-31 23:43:45            2019-04-01 00:13:58   \n",
       "std                              NaN                            NaN   \n",
       "\n",
       "        passengers     distance         fare          tip        tolls  \\\n",
       "count  6341.000000  6341.000000  6341.000000  6341.000000  6341.000000   \n",
       "mean      1.544078     2.997707    12.887931     1.972703     0.314793   \n",
       "min       0.000000     0.000000     1.000000     0.000000     0.000000   \n",
       "25%       1.000000     0.990000     6.500000     0.000000     0.000000   \n",
       "50%       1.000000     1.650000     9.500000     1.750000     0.000000   \n",
       "75%       2.000000     3.200000    15.000000     2.820000     0.000000   \n",
       "max       6.000000    36.700000   150.000000    23.190000    24.020000   \n",
       "std       1.207948     3.719775    10.722249     2.361897     1.369174   \n",
       "\n",
       "             total  \n",
       "count  6341.000000  \n",
       "mean     18.310263  \n",
       "min       1.300000  \n",
       "25%      10.800000  \n",
       "50%      14.160000  \n",
       "75%      20.300000  \n",
       "max     174.820000  \n",
       "std      12.950365  "
      ]
     },
     "execution_count": 211,
     "metadata": {},
     "output_type": "execute_result"
    }
   ],
   "source": [
    "df.describe()"
   ]
  },
  {
   "cell_type": "code",
   "execution_count": 212,
   "metadata": {},
   "outputs": [
    {
     "data": {
      "text/plain": [
       "<seaborn.axisgrid.FacetGrid at 0x139f568bd90>"
      ]
     },
     "execution_count": 212,
     "metadata": {},
     "output_type": "execute_result"
    },
    {
     "data": {
      "image/png": "[encoded data removed]",
      "text/plain": [
       "<Figure size 511.111x500 with 1 Axes>"
      ]
     },
     "metadata": {},
     "output_type": "display_data"
    },
    {
     "data": {
      "image/png": "[encoded data removed]",
      "text/plain": [
       "<Figure size 511.111x500 with 1 Axes>"
      ]
     },
     "metadata": {},
     "output_type": "display_data"
    },
    {
     "data": {
      "image/png": "[encoded data removed]",
      "text/plain": [
       "<Figure size 511.111x500 with 1 Axes>"
      ]
     },
     "metadata": {},
     "output_type": "display_data"
    },
    {
     "data": {
      "image/png": "[encoded data removed]",
      "text/plain": [
       "<Figure size 511.111x500 with 1 Axes>"
      ]
     },
     "metadata": {},
     "output_type": "display_data"
    },
    {
     "data": {
      "image/png": "[encoded data removed]",
      "text/plain": [
       "<Figure size 511.111x500 with 1 Axes>"
      ]
     },
     "metadata": {},
     "output_type": "display_data"
    },
    {
     "data": {
      "image/png": "[encoded data removed]",
      "text/plain": [
       "<Figure size 511.111x500 with 1 Axes>"
      ]
     },
     "metadata": {},
     "output_type": "display_data"
    }
   ],
   "source": [
    "sns.catplot(data=df, y='passengers', kind='box')\n",
    "sns.catplot(data=df, y='distance', kind='box')\n",
    "sns.catplot(data=df, y='fare', kind='box')\n",
    "sns.catplot(data=df, y='tip', kind='box')\n",
    "sns.catplot(data=df, y='tolls', kind='box')\n",
    "sns.catplot(data=df, y='total', kind='box')"
   ]
  },
  {
   "cell_type": "markdown",
   "metadata": {},
   "source": [
    "### 1.4 Data Visualization\n",
    "\n",
    "- Use matplotlib or seaborn to visualize the distribution of variables both quantitative and categorical (parametric and non-parametric)"
   ]
  },
  {
   "cell_type": "code",
   "execution_count": 213,
   "metadata": {},
   "outputs": [
    {
     "data": {
      "image/png": "[encoded data removed]",
      "text/plain": [
       "<Figure size 1000x1000 with 2 Axes>"
      ]
     },
     "metadata": {},
     "output_type": "display_data"
    }
   ],
   "source": [
    "df_corr = df[['passengers', 'distance', 'fare', 'tip', 'tolls', 'total']].corr()\n",
    "\n",
    "import matplotlib.pyplot as plt\n",
    "plt.figure(figsize=(10, 10))\n",
    "sns.heatmap(df_corr, annot=True)\n",
    "plt.title('Correlation Matrix')\n",
    "plt.show()\n"
   ]
  },
  {
   "cell_type": "markdown",
   "metadata": {},
   "source": [
    "## Task 2: Feature Engineering and Descriptive Statistics\n",
    "\n",
    "**Objective:** Enhance the dataset with new features and then use descriptive statistics\n",
    "to explain the distribution of the data."
   ]
  },
  {
   "cell_type": "markdown",
   "metadata": {},
   "source": [
    "### 2.1 Feature Engineering\n",
    "\n",
    "- Create a new feature by binning a numerical variable into categories (e.g., low, medium, high). Put ranges (eg age, into three or four groups rather than a continuous distribution)\n",
    "- Implement one-hot encoding for a categorical variable."
   ]
  },
  {
   "cell_type": "markdown",
   "metadata": {},
   "source": [
    "### 2.2 Descriptive Statistics\n",
    "\n",
    "- Calculate the mean, median, and standard deviation for numerical features.\n",
    "- For categorical features, count the frequency of each category."
   ]
  },
  {
   "cell_type": "markdown",
   "metadata": {},
   "source": [
    "### 2.3 Visualization\n",
    "\n",
    "- Use seaborn to create box plots for numerical features to identify outliers.\n",
    "- Visualize the distribution of categorical features using bar plots."
   ]
  },
  {
   "cell_type": "code",
   "execution_count": null,
   "metadata": {},
   "outputs": [],
   "source": []
  },
  {
   "cell_type": "markdown",
   "metadata": {},
   "source": [
    "## Task 3: Data Wrangling and Analysis\n",
    "\n",
    "**Objective:** Perform data wrangling to prepare data for analysis and conduct simple\n",
    "analysis to extract stories about the data - what can we say about this data?."
   ]
  },
  {
   "cell_type": "markdown",
   "metadata": {},
   "source": [
    "### 3.1 Data Selection and Wrangling\n",
    "\n",
    "- Select a subset of columns relevant to a hypothetical question of interest (e.g., predicting a target variable).\n",
    "- Use .groupby() to aggregate data and calculate mean values for each category of a selected categorical variable."
   ]
  },
  {
   "cell_type": "markdown",
   "metadata": {},
   "source": [
    "### 3.2 Data Analysis\n",
    "\n",
    "- Use seaborn to create scatter plots to visualize relationships between pairs of numerical variables.(X an Y axis are used for the variables)\n",
    "- Create a pairplot to visualize the pairwise relationships in the dataset.\n",
    "\n",
    "See https://seaborn.pydata.org/generated/seaborn.pairplot.html"
   ]
  },
  {
   "cell_type": "markdown",
   "metadata": {},
   "source": [
    "### 3.3 Insights:\n",
    "\n",
    "- Based on the visualizations and descriptive statistics, write down 3 insights about the dataset."
   ]
  },
  {
   "cell_type": "code",
   "execution_count": null,
   "metadata": {},
   "outputs": [],
   "source": []
  }
 ],
 "metadata": {
  "kernelspec": {
   "display_name": "venv",
   "language": "python",
   "name": "python3"
  },
  "language_info": {
   "codemirror_mode": {
    "name": "ipython",
    "version": 3
   },
   "file_extension": ".py",
   "mimetype": "text/x-python",
   "name": "python",
   "nbconvert_exporter": "python",
   "pygments_lexer": "ipython3",
   "version": "3.11.9"
  }
 },
 "nbformat": 4,
 "nbformat_minor": 2
}
