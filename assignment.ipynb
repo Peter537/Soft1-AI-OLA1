{
 "cells": [
  {
   "cell_type": "markdown",
   "metadata": {},
   "source": [
    "## Deliverables\n",
    "\n",
    "- A Jupyter notebook containing all the code used.\n",
    "- A short report (2-3 pages) summarizing the findings and insights from the exercises, including figures and tables as necessary. (This can but does not have to be done in LaTeX! It could be done in Markdown format inside the Jupyter Notebook)\n",
    "- Submit work to the hand-in folder via the Moodle course - it is a group report but please hand in individually with all group member names and group name easy to find."
   ]
  },
  {
   "cell_type": "markdown",
   "metadata": {},
   "source": [
    "## Task 1: Data Exploration and Cleaning\n",
    "\n",
    "**Objective:** Understand the dataset's structure, clean the data, and handle missing\n",
    "values."
   ]
  },
  {
   "cell_type": "markdown",
   "metadata": {},
   "source": [
    "### 1.1 Find and Download a Dataset\n",
    "\n",
    "Use Kaggle to find a dataset of interest. It should have both numerical and categorical data and some missing values."
   ]
  },
  {
   "cell_type": "markdown",
   "metadata": {},
   "source": [
    "### 1.2 Data Exploration\n",
    "\n",
    "- Load the dataset using pandas.\n",
    "- Use .describe(), .info(), and .head() to explore the dataset's structure, summary statistics, and first few rows. Use comments or markdown cells to explain the data"
   ]
  },
  {
   "cell_type": "markdown",
   "metadata": {},
   "source": [
    "### 1.3 Data Cleaning\n",
    "\n",
    "- Identify columns with missing values.\n",
    "- For numerical columns, interpolate missing values.\n",
    "- For categorical columns, replace missing values with the mode or another standard technique (such as the mean of the two adjacent data points)\n",
    "- Drop columns with more than 50% missing values.\n",
    "- Drop extreme outliers and explain why they were considered outliers"
   ]
  },
  {
   "cell_type": "markdown",
   "metadata": {},
   "source": [
    "### 1.4 Data Visualization\n",
    "\n",
    "- Use matplotlib or seaborn to visualize the distribution of variables both quantitative and categorical (parametric and non-parametric)"
   ]
  },
  {
   "cell_type": "code",
   "execution_count": null,
   "metadata": {},
   "outputs": [],
   "source": []
  },
  {
   "cell_type": "markdown",
   "metadata": {},
   "source": [
    "## Task 2: Feature Engineering and Descriptive Statistics\n",
    "\n",
    "**Objective:** Enhance the dataset with new features and then use descriptive statistics\n",
    "to explain the distribution of the data."
   ]
  },
  {
   "cell_type": "markdown",
   "metadata": {},
   "source": [
    "### 2.1 Feature Engineering\n",
    "\n",
    "- Create a new feature by binning a numerical variable into categories (e.g., low, medium, high). Put ranges (eg age, into three or four groups rather than a continuous distribution)\n",
    "- Implement one-hot encoding for a categorical variable."
   ]
  },
  {
   "cell_type": "markdown",
   "metadata": {},
   "source": [
    "### 2.2 Descriptive Statistics\n",
    "\n",
    "- Calculate the mean, median, and standard deviation for numerical features.\n",
    "- For categorical features, count the frequency of each category."
   ]
  },
  {
   "cell_type": "markdown",
   "metadata": {},
   "source": [
    "### 2.3 Visualization\n",
    "\n",
    "- Use seaborn to create box plots for numerical features to identify outliers.\n",
    "- Visualize the distribution of categorical features using bar plots."
   ]
  },
  {
   "cell_type": "code",
   "execution_count": null,
   "metadata": {},
   "outputs": [],
   "source": []
  },
  {
   "cell_type": "markdown",
   "metadata": {},
   "source": [
    "## Task 3: Data Wrangling and Analysis\n",
    "\n",
    "**Objective:** Perform data wrangling to prepare data for analysis and conduct simple\n",
    "analysis to extract stories about the data - what can we say about this data?."
   ]
  },
  {
   "cell_type": "markdown",
   "metadata": {},
   "source": [
    "### 3.1 Data Selection and Wrangling\n",
    "\n",
    "- Select a subset of columns relevant to a hypothetical question of interest (e.g., predicting a target variable).\n",
    "- Use .groupby() to aggregate data and calculate mean values for each category of a selected categorical variable."
   ]
  },
  {
   "cell_type": "markdown",
   "metadata": {},
   "source": [
    "### 3.2 Data Analysis\n",
    "\n",
    "- Use seaborn to create scatter plots to visualize relationships between pairs of numerical variables.(X an Y axis are used for the variables)\n",
    "- Create a pairplot to visualize the pairwise relationships in the dataset.\n",
    "\n",
    "See https://seaborn.pydata.org/generated/seaborn.pairplot.html"
   ]
  },
  {
   "cell_type": "markdown",
   "metadata": {},
   "source": [
    "### 3.3 Insights:\n",
    "\n",
    "- Based on the visualizations and descriptive statistics, write down 3 insights about the dataset."
   ]
  },
  {
   "cell_type": "code",
   "execution_count": null,
   "metadata": {},
   "outputs": [],
   "source": []
  }
 ],
 "metadata": {
  "kernelspec": {
   "display_name": "Python 3",
   "language": "python",
   "name": "python3"
  },
  "language_info": {
   "name": "python",
   "version": "3.11.9"
  }
 },
 "nbformat": 4,
 "nbformat_minor": 2
}
